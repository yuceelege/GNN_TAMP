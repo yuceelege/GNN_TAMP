{
 "cells": [
  {
   "cell_type": "code",
   "execution_count": 1,
   "metadata": {},
   "outputs": [],
   "source": [
    "import robotic as ry\n",
    "import numpy as np\n",
    "import pandas as pd\n",
    "import ast"
   ]
  },
  {
   "cell_type": "code",
   "execution_count": 6,
   "metadata": {},
   "outputs": [
    {
     "name": "stdout",
     "output_type": "stream",
     "text": [
      "14\n"
     ]
    },
    {
     "data": {
      "text/plain": [
       "0"
      ]
     },
     "execution_count": 6,
     "metadata": {},
     "output_type": "execute_result"
    }
   ],
   "source": [
    "#preds = [0.4798, 0.4767, 0.8113, 0.7954, 0.7210, 0.6862] sample prediction\n",
    "\n",
    "a = 65  # file index\n",
    "preds = np.array(preds)\n",
    "# min-max normalization\n",
    "preds = (preds - min(preds)) / (max(preds) - min(preds))\n",
    "path = \"target/\" \n",
    "new_path = \"target2/\"\n",
    "\n",
    "filename = path + \"wall_\" + str(a) + \".g\"\n",
    "new_filename = new_path + \"wall_\" + str(a) + \".g\"\n",
    "with open(filename, 'r') as f:\n",
    "    data = f.read()\n",
    "    data = data.split('\\n')\n",
    "    data = data[:-1]\n",
    "    print(len(data))\n",
    "    with open(new_filename, 'w') as f:\n",
    "        for j in range(len(data)):\n",
    "            body, color = data[j].split('color: ')\n",
    "            new_color = \"[\" + str(1 - preds[j]) + \", \" + str(preds[j]) + \", \" + str(0) + \"]}\"\n",
    "            new_data = body + \"color: \" + new_color\n",
    "\n",
    "            f.write(new_data + \"\\n\")\n",
    "C = ry.Config()\n",
    "C.addFile(\"target2/wall_{}.g\".format(str(a)))\n",
    "C.view()"
   ]
  }
 ],
 "metadata": {
  "kernelspec": {
   "display_name": "Python 3 (ipykernel)",
   "language": "python",
   "name": "python3"
  },
  "language_info": {
   "codemirror_mode": {
    "name": "ipython",
    "version": 3
   },
   "file_extension": ".py",
   "mimetype": "text/x-python",
   "name": "python",
   "nbconvert_exporter": "python",
   "pygments_lexer": "ipython3",
   "version": "3.10.13"
  }
 },
 "nbformat": 4,
 "nbformat_minor": 4
}
